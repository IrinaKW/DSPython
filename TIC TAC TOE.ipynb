{
 "cells": [
  {
   "cell_type": "code",
   "execution_count": 1,
   "metadata": {},
   "outputs": [
    {
     "name": "stdout",
     "output_type": "stream",
     "text": [
      " _X_| _O_| _O_\n",
      " _X_| _X_| _O_\n",
      "  O |  X |  X \n",
      "\n",
      "Andy WON!\n",
      "\n",
      "Well Done\n",
      "\n",
      "Want to play again? Y/N n\n",
      "\n",
      "Bye Bye...\n"
     ]
    }
   ],
   "source": [
    "def main():\n",
    "    from IPython.display import clear_output\n",
    "\n",
    "    mylist=['1','2','3','4','5','6','7','8','9']\n",
    "\n",
    "    def x_move(xtic):\n",
    "        dict[xtic]=dict[xtic].replace(xtic,'X')\n",
    "        print ('',dict['1'],dict['2'],dict['3'],dict['4'],dict['5'],dict['6'],dict['7'],dict['8'],dict['9'])   \n",
    "\n",
    "    def o_move(otac):\n",
    "        dict[otac]=dict[otac].replace(otac,'O')\n",
    "        print ('',dict['1'],dict['2'],dict['3'],dict['4'],dict['5'],dict['6'],dict['7'],dict['8'],dict['9'])     \n",
    "\n",
    "    def checkpointx():\n",
    "        for _ in mylist:\n",
    "            tic=input(name1+' it\\'s your move, choose your location, type a number from 1 to 9:  ')\n",
    "            if tic in mylist:\n",
    "                mylist.remove(tic)\n",
    "                clear_output()\n",
    "                x_move(tic)\n",
    "                break\n",
    "            else:\n",
    "                print ('Try Again')\n",
    "\n",
    "\n",
    "    def checkpointo():\n",
    "        for _ in mylist:\n",
    "            tac=input(name2+' it\\'s your move, choose your location, type a number from 1 to 9:  ')\n",
    "            if tac in mylist:\n",
    "                mylist.remove(tac)\n",
    "                clear_output()\n",
    "                o_move(tac)\n",
    "                break\n",
    "            else:\n",
    "                print ('Try Again')\n",
    "            \n",
    "    name1=input('Player 1 please enter your name: ')\n",
    "    name2=input('Player 2 please enter your name: ')\n",
    "    print('\\n{} you are playing as X and {} you are playing as O'.format(name1, name2))\n",
    "    print('Here is the games field')\n",
    "    dict={'1':'_1_|','2':'_2_|','3':'_3_\\n','4':'_4_|','5':'_5_|','6':'_6_\\n','7':' 7 |','8':' 8 |','9':' 9 '}\n",
    "    print ('\\n\\n\\n\\n'+dict['1'],dict['2'],dict['3']+dict['4'],dict['5'],dict['6']+dict['7'],dict['8'],dict['9'])\n",
    "    \n",
    "    for i in range (8):\n",
    "        checkpointx()\n",
    "        checkpointo()\n",
    "\n",
    "    if dict['1'][1]==dict['2'][1]==dict['3'][1]=='X' or dict['1'][1]==dict['5'][1]==dict['9'][1]=='X' \\\n",
    "        or dict['1'][1]==dict['4'][1]==dict['7'][1]=='X'or dict['4'][1]==dict['5'][1]==dict['6'][1]=='X' \\\n",
    "        or dict['7'][1]==dict['8'][1]==dict['9'][1]=='X' or dict['3'][1]==dict['6'][1]==dict['9'][1]=='X'\\\n",
    "        or dict['3'][1]==dict['5'][1]==dict['6'][1]=='X' or dict['2'][1]==dict['5'][1]==dict['8'][1]=='X':\n",
    "\n",
    "        print('\\n{} WON!\\n'.format(name1))\n",
    "\n",
    "\n",
    "    elif dict['1'][1]==dict['2'][1]==dict['3'][1]=='O' or dict['1'][1]==dict['5'][1]==dict['9'][1]=='O' \\\n",
    "        or dict['1'][1]==dict['4'][1]==dict['7'][1]=='O'or dict['4'][1]==dict['5'][1]==dict['6'][1]=='O' \\\n",
    "        or dict['7'][1]==dict['8'][1]==dict['9'][1]=='O' or dict['3'][1]==dict['6'][1]==dict['9'][1]=='O'\\\n",
    "        or dict['3'][1]==dict['5'][1]==dict['6'][1]=='O' or dict['2'][1]==dict['5'][1]==dict['8'][1]=='O':\n",
    "\n",
    "        print('\\n{} WON!\\n'.format(name2))\n",
    "\n",
    "\n",
    "    else:\n",
    "        print('\\nIt\\'s a tie!\\n')\n",
    "\n",
    "\n",
    "    print('Well Done\\n')\n",
    "    \n",
    "    returncode=input('Want to play again? Y/N ')\n",
    "    \n",
    "    if returncode.lower() == 'y':\n",
    "        main()\n",
    "    else:\n",
    "        print('\\nBye Bye...')\n",
    "        exit()\n",
    "\n",
    "main()"
   ]
  },
  {
   "cell_type": "code",
   "execution_count": null,
   "metadata": {
    "collapsed": true
   },
   "outputs": [],
   "source": []
  }
 ],
 "metadata": {
  "kernelspec": {
   "display_name": "Python 3",
   "language": "python",
   "name": "python3"
  },
  "language_info": {
   "codemirror_mode": {
    "name": "ipython",
    "version": 3
   },
   "file_extension": ".py",
   "mimetype": "text/x-python",
   "name": "python",
   "nbconvert_exporter": "python",
   "pygments_lexer": "ipython3",
   "version": "3.7.6"
  }
 },
 "nbformat": 4,
 "nbformat_minor": 2
}
